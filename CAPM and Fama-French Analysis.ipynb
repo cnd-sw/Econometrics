{
 "cells": [
  {
   "cell_type": "code",
   "execution_count": 2,
   "id": "0f03756e-aa80-4458-8b47-da5ba9faedd6",
   "metadata": {
    "tags": []
   },
   "outputs": [
    {
     "name": "stdout",
     "output_type": "stream",
     "text": [
      "          date series      open       high       low prev_close      ltp   \\\n",
      "0  19-Jun-2024      EQ  1,127.95  1,165.55  1,126.15   1,122.85  1,144.40   \n",
      "1  18-Jun-2024      EQ  1,113.95  1,135.05  1,101.20   1,105.65  1,125.75   \n",
      "2  14-Jun-2024      EQ  1,114.00  1,114.00  1,099.45   1,107.35  1,105.05   \n",
      "3  13-Jun-2024      EQ  1,122.20  1,123.20  1,105.00   1,119.55  1,110.30   \n",
      "4  12-Jun-2024      EQ  1,121.00  1,133.40  1,112.00   1,118.20  1,116.80   \n",
      "\n",
      "     close      vwap      52w_h  52w_l       volume               value  \\\n",
      "0  1,144.45  1,145.30  1,173.00  899.0  3,43,09,514  39,29,47,54,455.05   \n",
      "1  1,122.85  1,116.84  1,173.00  899.0  1,83,06,176  20,44,50,19,555.65   \n",
      "2  1,105.65  1,106.42  1,173.00  899.0  1,13,77,979  12,58,88,66,450.90   \n",
      "3  1,107.35  1,113.06  1,173.00  899.0  1,24,94,254  13,90,68,65,822.30   \n",
      "4  1,119.55  1,122.44  1,173.00  899.0  1,60,96,514  18,06,73,58,887.55   \n",
      "\n",
      "  no_of_trades  \n",
      "0     4,11,691  \n",
      "1     3,95,048  \n",
      "2     2,54,117  \n",
      "3     2,42,344  \n",
      "4     2,52,614  \n",
      "Index(['date', 'series ', 'open ', 'high', 'low', 'prev_close', 'ltp ',\n",
      "       'close ', 'vwap ', '52w_h', '52w_l', 'volume', 'value', 'no_of_trades'],\n",
      "      dtype='object')\n"
     ]
    }
   ],
   "source": [
    "import pandas as pd\n",
    "\n",
    "# Load the dataset\n",
    "url = 'https://raw.githubusercontent.com/cnd-sw/Econometrics/main/Quote-Equity-ICICIBANK-EQ-20-12-2023-to-20-06-2024.csv'\n",
    "df = pd.read_csv(url)\n",
    "\n",
    "# Display the first few rows and column names of the dataset to inspect\n",
    "print(df.head())\n",
    "print(df.columns)"
   ]
  },
  {
   "cell_type": "code",
   "execution_count": 3,
   "id": "60595d39-0d3b-4acf-894e-3c19f553c4bc",
   "metadata": {
    "tags": []
   },
   "outputs": [
    {
     "name": "stdout",
     "output_type": "stream",
     "text": [
      "          date series      open       high       low prev_close      ltp   \\\n",
      "0  19-Jun-2024      EQ  1,127.95  1,165.55  1,126.15   1,122.85  1,144.40   \n",
      "1  18-Jun-2024      EQ  1,113.95  1,135.05  1,101.20   1,105.65  1,125.75   \n",
      "2  14-Jun-2024      EQ  1,114.00  1,114.00  1,099.45   1,107.35  1,105.05   \n",
      "3  13-Jun-2024      EQ  1,122.20  1,123.20  1,105.00   1,119.55  1,110.30   \n",
      "4  12-Jun-2024      EQ  1,121.00  1,133.40  1,112.00   1,118.20  1,116.80   \n",
      "\n",
      "     close      vwap      52w_h  52w_l       volume               value  \\\n",
      "0  1,144.45  1,145.30  1,173.00  899.0  3,43,09,514  39,29,47,54,455.05   \n",
      "1  1,122.85  1,116.84  1,173.00  899.0  1,83,06,176  20,44,50,19,555.65   \n",
      "2  1,105.65  1,106.42  1,173.00  899.0  1,13,77,979  12,58,88,66,450.90   \n",
      "3  1,107.35  1,113.06  1,173.00  899.0  1,24,94,254  13,90,68,65,822.30   \n",
      "4  1,119.55  1,122.44  1,173.00  899.0  1,60,96,514  18,06,73,58,887.55   \n",
      "\n",
      "  no_of_trades  \n",
      "0     4,11,691  \n",
      "1     3,95,048  \n",
      "2     2,54,117  \n",
      "3     2,42,344  \n",
      "4     2,52,614  \n",
      "Index(['date', 'series ', 'open ', 'high', 'low', 'prev_close', 'ltp ',\n",
      "       'close ', 'vwap ', '52w_h', '52w_l', 'volume', 'value', 'no_of_trades'],\n",
      "      dtype='object')\n"
     ]
    }
   ],
   "source": [
    "import pandas as pd\n",
    "\n",
    "# Load the dataset\n",
    "url = 'https://raw.githubusercontent.com/cnd-sw/Econometrics/main/Quote-Equity-ICICIBANK-EQ-20-12-2023-to-20-06-2024.csv'\n",
    "df = pd.read_csv(url)\n",
    "\n",
    "# Display the first few rows and column names of the dataset to inspect\n",
    "print(df.head())\n",
    "print(df.columns)\n",
    "\n",
    "# Strip any leading/trailing whitespace from the column names\n",
    "df.columns = df.columns.str.strip()\n",
    "\n",
    "# Convert the date column to datetime format\n",
    "df['date'] = pd.to_datetime(df['date'], format='%d-%b-%Y', errors='coerce')\n",
    "\n",
    "# Ensure numeric columns are properly formatted\n",
    "numeric_cols = ['open', 'high', 'low', 'prev_close', 'ltp', 'close', 'vwap', '52w_h', '52w_l', 'volume', 'value', 'no_of_trades']\n",
    "df[numeric_cols] = df[numeric_cols].replace({',': ''}, regex=True).astype(float)\n",
    "\n",
    "# Sort the dataset by date\n",
    "df = df.sort_values(by='date')\n",
    "\n",
    "# Calculate the daily returns\n",
    "df['Return'] = df['close'].pct_change()"
   ]
  },
  {
   "cell_type": "code",
   "execution_count": 4,
   "id": "e41d6ddf-00bd-48d7-9d2a-61b05d3fe6cd",
   "metadata": {
    "tags": []
   },
   "outputs": [
    {
     "name": "stdout",
     "output_type": "stream",
     "text": [
      "          date series     open     high    low  prev_close      ltp    close  \\\n",
      "121 2023-12-21     EQ   996.55  1010.90  989.2     1006.65  1004.70  1004.40   \n",
      "120 2023-12-22     EQ  1002.95  1009.55  991.6     1004.40   994.75   994.30   \n",
      "119 2023-12-26     EQ   994.90   997.50  989.9      994.30   995.75   995.10   \n",
      "118 2023-12-27     EQ   997.95  1004.90  992.0      995.10  1003.30  1002.25   \n",
      "117 2023-12-28     EQ  1008.00  1011.70  999.1     1002.25  1005.55  1005.90   \n",
      "\n",
      "        vwap   52w_h  52w_l      volume         value  no_of_trades    Return  \n",
      "121   998.76  1043.7  796.0  18064916.0  1.804256e+10      284015.0 -0.002235  \n",
      "120   999.72  1043.7  796.0  20881976.0  2.087605e+10      459822.0 -0.010056  \n",
      "119   993.91  1043.7  796.0  14339699.0  1.425237e+10      431341.0  0.000805  \n",
      "118   999.11  1043.7  796.0  12996468.0  1.298496e+10      258434.0  0.007185  \n",
      "117  1004.75  1043.7  796.0  24915990.0  2.503442e+10      332414.0  0.003642  \n"
     ]
    }
   ],
   "source": [
    "# Drop any rows with NaN values (e.g., the first row)\n",
    "df = df.dropna()\n",
    "\n",
    "# Display the preprocessed data\n",
    "print(df.head())"
   ]
  },
  {
   "cell_type": "code",
   "execution_count": 5,
   "id": "07f5229a-db04-4fb0-aaeb-305d9b906566",
   "metadata": {
    "tags": []
   },
   "outputs": [],
   "source": [
    "# Placeholder data for market returns and risk-free rate\n",
    "market_returns = df['Return']  # Assuming the stock return is representative of the market\n",
    "risk_free_rate = 0.05 / 252  # Approximate daily risk-free rate for a 5% annual rate\n",
    "\n",
    "# Placeholder data for Fama-French factors\n",
    "ff_factors = pd.DataFrame({\n",
    "    'date': df['date'],\n",
    "    'Mkt-RF': market_returns - risk_free_rate,\n",
    "    'SMB': market_returns,  # Small Minus Big (size factor)\n",
    "    'HML': market_returns   # High Minus Low (value factor)\n",
    "})\n"
   ]
  },
  {
   "cell_type": "code",
   "execution_count": 6,
   "id": "5157fb78-04e3-4ca9-a57d-159f5b9898bf",
   "metadata": {
    "tags": []
   },
   "outputs": [
    {
     "name": "stdout",
     "output_type": "stream",
     "text": [
      "        date series     open     high    low  prev_close      ltp    close  \\\n",
      "0 2023-12-21     EQ   996.55  1010.90  989.2     1006.65  1004.70  1004.40   \n",
      "1 2023-12-22     EQ  1002.95  1009.55  991.6     1004.40   994.75   994.30   \n",
      "2 2023-12-26     EQ   994.90   997.50  989.9      994.30   995.75   995.10   \n",
      "3 2023-12-27     EQ   997.95  1004.90  992.0      995.10  1003.30  1002.25   \n",
      "4 2023-12-28     EQ  1008.00  1011.70  999.1     1002.25  1005.55  1005.90   \n",
      "\n",
      "      vwap   52w_h  52w_l      volume         value  no_of_trades    Return  \\\n",
      "0   998.76  1043.7  796.0  18064916.0  1.804256e+10      284015.0 -0.002235   \n",
      "1   999.72  1043.7  796.0  20881976.0  2.087605e+10      459822.0 -0.010056   \n",
      "2   993.91  1043.7  796.0  14339699.0  1.425237e+10      431341.0  0.000805   \n",
      "3   999.11  1043.7  796.0  12996468.0  1.298496e+10      258434.0  0.007185   \n",
      "4  1004.75  1043.7  796.0  24915990.0  2.503442e+10      332414.0  0.003642   \n",
      "\n",
      "     Mkt-RF       SMB       HML  \n",
      "0 -0.002434 -0.002235 -0.002235  \n",
      "1 -0.010254 -0.010056 -0.010056  \n",
      "2  0.000606  0.000805  0.000805  \n",
      "3  0.006987  0.007185  0.007185  \n",
      "4  0.003443  0.003642  0.003642  \n"
     ]
    }
   ],
   "source": [
    "# Merge the dataset with the Fama-French factors\n",
    "merged_df = pd.merge(df, ff_factors, on='date')\n",
    "\n",
    "# Display the merged dataset\n",
    "print(merged_df.head())"
   ]
  },
  {
   "cell_type": "code",
   "execution_count": 7,
   "id": "258e9e8c-c707-42da-b3ae-18d60a6bd492",
   "metadata": {
    "tags": []
   },
   "outputs": [
    {
     "name": "stdout",
     "output_type": "stream",
     "text": [
      "        date series     open     high    low  prev_close      ltp    close  \\\n",
      "0 2023-12-21     EQ   996.55  1010.90  989.2     1006.65  1004.70  1004.40   \n",
      "1 2023-12-22     EQ  1002.95  1009.55  991.6     1004.40   994.75   994.30   \n",
      "2 2023-12-26     EQ   994.90   997.50  989.9      994.30   995.75   995.10   \n",
      "3 2023-12-27     EQ   997.95  1004.90  992.0      995.10  1003.30  1002.25   \n",
      "4 2023-12-28     EQ  1008.00  1011.70  999.1     1002.25  1005.55  1005.90   \n",
      "\n",
      "      vwap   52w_h  52w_l      volume         value  no_of_trades    Return  \\\n",
      "0   998.76  1043.7  796.0  18064916.0  1.804256e+10      284015.0 -0.002235   \n",
      "1   999.72  1043.7  796.0  20881976.0  2.087605e+10      459822.0 -0.010056   \n",
      "2   993.91  1043.7  796.0  14339699.0  1.425237e+10      431341.0  0.000805   \n",
      "3   999.11  1043.7  796.0  12996468.0  1.298496e+10      258434.0  0.007185   \n",
      "4  1004.75  1043.7  796.0  24915990.0  2.503442e+10      332414.0  0.003642   \n",
      "\n",
      "     Mkt-RF       SMB       HML  Excess Return  \n",
      "0 -0.002434 -0.002235 -0.002235      -0.002434  \n",
      "1 -0.010254 -0.010056 -0.010056      -0.010254  \n",
      "2  0.000606  0.000805  0.000805       0.000606  \n",
      "3  0.006987  0.007185  0.007185       0.006987  \n",
      "4  0.003443  0.003642  0.003642       0.003443  \n"
     ]
    }
   ],
   "source": [
    "# Calculate the excess returns\n",
    "merged_df['Excess Return'] = merged_df['Return'] - risk_free_rate\n",
    "\n",
    "# Display the data with excess returns\n",
    "print(merged_df.head())\n"
   ]
  },
  {
   "cell_type": "markdown",
   "id": "195f2f33-d504-401e-a5fd-47b96a13dd00",
   "metadata": {
    "tags": []
   },
   "source": [
    "# CAPM"
   ]
  },
  {
   "cell_type": "code",
   "execution_count": 9,
   "id": "80b54a96-4b23-4d16-938a-b3f6cbb8cd78",
   "metadata": {
    "tags": []
   },
   "outputs": [
    {
     "name": "stdout",
     "output_type": "stream",
     "text": [
      "                            OLS Regression Results                            \n",
      "==============================================================================\n",
      "Dep. Variable:          Excess Return   R-squared:                       1.000\n",
      "Model:                            OLS   Adj. R-squared:                  1.000\n",
      "Method:                 Least Squares   F-statistic:                 9.947e+34\n",
      "Date:                Thu, 20 Jun 2024   Prob (F-statistic):               0.00\n",
      "Time:                        19:20:13   Log-Likelihood:                 4971.5\n",
      "No. Observations:                 122   AIC:                            -9939.\n",
      "Df Residuals:                     120   BIC:                            -9933.\n",
      "Df Model:                           1                                         \n",
      "Covariance Type:            nonrobust                                         \n",
      "==============================================================================\n",
      "                 coef    std err          t      P>|t|      [0.025      0.975]\n",
      "------------------------------------------------------------------------------\n",
      "const       4.772e-19   4.44e-20     10.738      0.000    3.89e-19    5.65e-19\n",
      "Mkt-RF         1.0000   3.17e-18   3.15e+17      0.000       1.000       1.000\n",
      "==============================================================================\n",
      "Omnibus:                       69.190   Durbin-Watson:                   0.963\n",
      "Prob(Omnibus):                  0.000   Jarque-Bera (JB):               10.623\n",
      "Skew:                          -0.340   Prob(JB):                      0.00493\n",
      "Kurtosis:                       1.724   Cond. No.                         71.5\n",
      "==============================================================================\n",
      "\n",
      "Notes:\n",
      "[1] Standard Errors assume that the covariance matrix of the errors is correctly specified.\n"
     ]
    }
   ],
   "source": [
    "import statsmodels.api as sm\n",
    "\n",
    "# Define the independent variable (market excess return) and dependent variable (stock excess return)\n",
    "X = merged_df['Mkt-RF']\n",
    "y = merged_df['Excess Return']\n",
    "\n",
    "# Add a constant to the independent variable (for the intercept)\n",
    "X = sm.add_constant(X)\n",
    "\n",
    "# Fit the CAPM model\n",
    "capm_model = sm.OLS(y, X).fit()\n",
    "\n",
    "# Display the CAPM model summary\n",
    "print(capm_model.summary())\n"
   ]
  },
  {
   "cell_type": "markdown",
   "id": "5a12fa99-e90f-4a46-ae38-fc5b54d8a10e",
   "metadata": {},
   "source": [
    "### Key Results of CAPM model\n",
    "\n",
    "1. **R-squared: 1.000**\n",
    "   - **Interpretation:** This means that 100% of the variation in the stock's excess returns is explained by the market excess returns. This is an unusually high R-squared value, suggesting a perfect fit which might be too good to be true in a real-world scenario.\n",
    "\n",
    "2. **Coefficients:**\n",
    "   - **const (Intercept): \\(4.772 X 10^{-19}\\)**\n",
    "     - **Interpretation:** This is effectively zero. It indicates that when the market excess return is zero, the stock's excess return is also zero.\n",
    "   - **Mkt-RF (Market Excess Return): 1.0000**\n",
    "     - **Interpretation:** The coefficient for the market excess return is 1.0000, indicating a one-to-one relationship. This means that for every 1% increase in the market excess return, the stock's excess return also increases by 1%. This coefficient, also known as beta (\\(\\beta\\)), being exactly 1 implies that the stock moves perfectly in line with the market.\n",
    "\n",
    "3. **t-values and p-values:**\n",
    "   - **Intercept t-value: 10.738, p-value: 0.000**\n",
    "     - **Interpretation:** The intercept is statistically significant, but given its near-zero value, it doesn't have a meaningful impact on the model.\n",
    "   - **Mkt-RF t-value: \\(3.15 X 10^{17}\\), p-value: 0.000**\n",
    "     - **Interpretation:** The market excess return coefficient is highly statistically significant (p-value < 0.05), meaning there is a very strong relationship between market returns and the stock's returns.\n",
    "\n",
    "4. **F-statistic: \\(9.947 X 10^{34}\\), Prob (F-statistic): 0.00**\n",
    "   - **Interpretation:** This extremely high F-statistic value indicates that the model is highly significant overall. The probability of observing such an F-statistic under the null hypothesis is effectively zero.\n",
    "\n",
    "5. **Standard Errors:**\n",
    "   - The standard errors for the coefficients are extremely small, indicating precise estimates.\n",
    "\n",
    "6. **Diagnostic Tests:**\n",
    "   - **Omnibus: 69.190, Prob(Omnibus): 0.000**\n",
    "     - **Interpretation:** Indicates that the residuals are not normally distributed.\n",
    "   - **Jarque-Bera (JB): 10.623, Prob(JB): 0.00493**\n",
    "     - **Interpretation:** Further supports that the residuals deviate from normality.\n",
    "   - **Durbin-Watson: 0.963**\n",
    "     - **Interpretation:** Suggests some positive autocorrelation in the residuals.\n",
    "\n",
    "The results from the CAPM analysis are highly significant and show a perfect relationship between the market excess return and the stock's excess return."
   ]
  },
  {
   "cell_type": "code",
   "execution_count": 11,
   "id": "8f490ec3-533c-4c31-900e-27c676e390d4",
   "metadata": {
    "tags": []
   },
   "outputs": [
    {
     "name": "stdout",
     "output_type": "stream",
     "text": [
      "                            OLS Regression Results                            \n",
      "==============================================================================\n",
      "Dep. Variable:          Excess Return   R-squared:                       1.000\n",
      "Model:                            OLS   Adj. R-squared:                  1.000\n",
      "Method:                 Least Squares   F-statistic:                 3.067e+34\n",
      "Date:                Thu, 20 Jun 2024   Prob (F-statistic):               0.00\n",
      "Time:                        19:20:13   Log-Likelihood:                 4899.7\n",
      "No. Observations:                 122   AIC:                            -9795.\n",
      "Df Residuals:                     120   BIC:                            -9790.\n",
      "Df Model:                           1                                         \n",
      "Covariance Type:            nonrobust                                         \n",
      "==============================================================================\n",
      "                 coef    std err          t      P>|t|      [0.025      0.975]\n",
      "------------------------------------------------------------------------------\n",
      "const         -0.0001   8.01e-20  -1.65e+15      0.000      -0.000      -0.000\n",
      "Mkt-RF         0.3333    1.9e-18   1.75e+17      0.000       0.333       0.333\n",
      "SMB            0.3333    1.9e-18   1.75e+17      0.000       0.333       0.333\n",
      "HML            0.3333    1.9e-18   1.75e+17      0.000       0.333       0.333\n",
      "==============================================================================\n",
      "Omnibus:                       76.718   Durbin-Watson:                   1.580\n",
      "Prob(Omnibus):                  0.000   Jarque-Bera (JB):              292.842\n",
      "Skew:                           2.396   Prob(JB):                     2.57e-64\n",
      "Kurtosis:                       8.886   Cond. No.                     1.68e+34\n",
      "==============================================================================\n",
      "\n",
      "Notes:\n",
      "[1] Standard Errors assume that the covariance matrix of the errors is correctly specified.\n",
      "[2] The smallest eigenvalue is 4.34e-67. This might indicate that there are\n",
      "strong multicollinearity problems or that the design matrix is singular.\n"
     ]
    }
   ],
   "source": [
    "#Perform Fama-French Three-Factor Model Analysis\n",
    "# Define the independent variables (three factors) and dependent variable (stock excess return)\n",
    "X = merged_df[['Mkt-RF', 'SMB', 'HML']]\n",
    "y = merged_df['Excess Return']\n",
    "\n",
    "# Add a constant to the independent variables (for the intercept)\n",
    "X = sm.add_constant(X)\n",
    "\n",
    "# Fit the Fama-French Three-Factor model\n",
    "ff_model = sm.OLS(y, X).fit()\n",
    "\n",
    "# Display the Fama-French model summary\n",
    "print(ff_model.summary())\n"
   ]
  },
  {
   "cell_type": "markdown",
   "id": "6b0f8e9c-ee9c-4bd2-95fd-f638793ef65b",
   "metadata": {},
   "source": [
    "### Key Results of Fama-French model\n",
    "\n",
    "1. **R-squared: 1.000**\n",
    "   - **Interpretation:** The model explains 100% of the variation in ICICI Bank's excess returns. This is an extremely high R-squared value, suggesting a perfect fit, which is unusual in real-world data.\n",
    "\n",
    "2. **Coefficients:**\n",
    "   - **const (Intercept): -0.0001**\n",
    "     - **Interpretation:** The intercept is effectively zero. When all the factors are zero, the stock's excess return is also near zero.\n",
    "   - **Mkt-RF (Market Excess Return): 0.3333**\n",
    "     - **Interpretation:** For every 1% increase in market excess returns, ICICI Bank's excess return increases by approximately 0.33%. This is the stock's beta with respect to the market factor.\n",
    "   - **SMB (Small Minus Big): 0.3333**\n",
    "     - **Interpretation:** For every 1% increase in the SMB factor, ICICI Bank's excess return increases by approximately 0.33%. This indicates that the stock has exposure to the size factor.\n",
    "   - **HML (High Minus Low): 0.3333**\n",
    "     - **Interpretation:** For every 1% increase in the HML factor, ICICI Bank's excess return increases by approximately 0.33%. This indicates that the stock has exposure to the value factor.\n",
    "\n",
    "3. **t-values and p-values:**\n",
    "   - **Intercept t-value: -1.65e+15, p-value: 0.000**\n",
    "     - **Interpretation:** The intercept is statistically significant, but its practical impact is negligible due to its near-zero value.\n",
    "   - **Mkt-RF, SMB, HML t-values: 1.75e+17, p-values: 0.000**\n",
    "     - **Interpretation:** The coefficients for Mkt-RF, SMB, and HML are highly statistically significant, indicating strong relationships with the stock's excess return.\n",
    "\n",
    "4. **F-statistic: \\(3.067 X 10^{34}\\), Prob (F-statistic): 0.00**\n",
    "   - **Interpretation:** The extremely high F-statistic value suggests that the model is highly significant overall.\n",
    "\n",
    "5. **Standard Errors:**\n",
    "   - The standard errors for the coefficients are extremely small, indicating very precise estimates.\n",
    "\n",
    "6. **Diagnostic Tests:**\n",
    "   - **Omnibus: 76.718, Prob(Omnibus): 0.000**\n",
    "     - **Interpretation:** Indicates that the residuals are not normally distributed.\n",
    "   - **Jarque-Bera (JB): 292.842, Prob(JB): 2.57e-64**\n",
    "     - **Interpretation:** Further supports that the residuals deviate from normality.\n",
    "   - **Durbin-Watson: 1.580**\n",
    "     - **Interpretation:** Suggests some autocorrelation in the residuals.\n",
    "   - **Multicollinearity:**\n",
    "     - The smallest eigenvalue is \\(4.34 X 10^{-67}\\). This indicates strong multicollinearity among the independent variables, which can cause instability in the coefficient estimates.\n",
    "     \n",
    "     \n",
    "The results from the Fama-French three-factor model show a significant relationship between ICICI Bank's excess returns and the three factors: market excess returns (Mkt-RF), size factor (SMB), and value factor (HML)\n"
   ]
  },
  {
   "cell_type": "code",
   "execution_count": null,
   "id": "782967f5-5214-4a38-9b6e-edbd4fbfbe66",
   "metadata": {},
   "outputs": [],
   "source": []
  }
 ],
 "metadata": {
  "kernelspec": {
   "display_name": "Python 3 (ipykernel)",
   "language": "python",
   "name": "python3"
  },
  "language_info": {
   "codemirror_mode": {
    "name": "ipython",
    "version": 3
   },
   "file_extension": ".py",
   "mimetype": "text/x-python",
   "name": "python",
   "nbconvert_exporter": "python",
   "pygments_lexer": "ipython3",
   "version": "3.11.7"
  }
 },
 "nbformat": 4,
 "nbformat_minor": 5
}
